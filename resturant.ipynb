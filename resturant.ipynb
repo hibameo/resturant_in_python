{
  "nbformat": 4,
  "nbformat_minor": 0,
  "metadata": {
    "colab": {
      "provenance": [],
      "authorship_tag": "ABX9TyPn2sVOufff/yv26G8Kz2Yd",
      "include_colab_link": true
    },
    "kernelspec": {
      "name": "python3",
      "display_name": "Python 3"
    },
    "language_info": {
      "name": "python"
    }
  },
  "cells": [
    {
      "cell_type": "markdown",
      "metadata": {
        "id": "view-in-github",
        "colab_type": "text"
      },
      "source": [
        "<a href=\"https://colab.research.google.com/github/hibameo/resturant_in_python/blob/main/resturant.ipynb\" target=\"_parent\"><img src=\"https://colab.research.google.com/assets/colab-badge.svg\" alt=\"Open In Colab\"/></a>"
      ]
    },
    {
      "cell_type": "code",
      "execution_count": 1,
      "metadata": {
        "colab": {
          "base_uri": "https://localhost:8080/"
        },
        "id": "des_tENEaenx",
        "outputId": "ffa74b6b-8fb4-425b-97a0-00569d4efbdf"
      },
      "outputs": [
        {
          "output_type": "stream",
          "name": "stdout",
          "text": [
            "wellcome to hiba resturant\n",
            "pizza:500 pasta:300 burger:350 coffe:200 tea:150\n",
            "enter the name of iteam you want to order = pizza\n",
            "orderd iteam pizza is not avalabile yet\n",
            "Do you want to add another iteam? (Yes/No)y\n",
            "The tottal amaount of iteams to pay is 0\n",
            "The tottal amaount of iteams to pay is 0\n"
          ]
        }
      ],
      "source": [
        "menu ={\n",
        "    \"piza\":500,\n",
        "    \"pasta\":300,\n",
        "    \"burger\":350,\n",
        "    \"coffe\":200,\n",
        "    \"tea\":150,\n",
        "}\n",
        "\n",
        "#greet\n",
        "\n",
        "print(\"wellcome to hiba resturant\")\n",
        "print(\"pizza:500 pasta:300 burger:350 coffe:200 tea:150\")\n",
        "\n",
        "oder_total = 0\n",
        "# 200 + 500 = 700\n",
        "\n",
        "iteam_1 = input(\"enter the name of iteam you want to order = \")\n",
        "\n",
        "if iteam_1 in menu:\n",
        "    oder_total += menu[iteam_1]\n",
        "    print (f\"your iteam {iteam_1} has been added to your order\")\n",
        "\n",
        "else:\n",
        "\n",
        "  print(f\"orderd iteam {iteam_1} is not avalabile yet\")\n",
        "\n",
        "another_iteam = input(\"Do you want to add another iteam? (Yes/No)\")\n",
        "\n",
        "# Change 'another_order' to 'another_iteam' to use the correct variable\n",
        "if another_iteam.lower() == \"yes\":  # Also convert input to lowercase for case-insensitive comparison\n",
        "     iteam_2 = input(\"enter the name of second iteam you want to order =\")\n",
        "\n",
        "     if iteam_2 in menu:\n",
        "        oder_total += menu[iteam_2]\n",
        "        print(f\"Iteam {iteam_2} has been added to your order\")\n",
        "     else:\n",
        "        print(f\"order iteam {iteam_2} is not avalabile!\")\n",
        "\n",
        "\n",
        "print(f\"The tottal amaount of iteams to pay is {oder_total}\")\n",
        "\n",
        "print(f\"The tottal amaount of iteams to pay is {oder_total}\")"
      ]
    }
  ]
}